{
 "cells": [
  {
   "cell_type": "code",
   "execution_count": 1,
   "metadata": {},
   "outputs": [
    {
     "name": "stdout",
     "output_type": "stream",
     "text": [
      "{'누적 확진률': '3.239660237', '누적 의심신고 검사자': '268212', '등록일시분초': '75', '확진자 수': '8162', '게시글번호(감염현황 고유값)': '56', '기준일': '20200315', '기준시간': '00:00', '수정일시분초': '2021-10-07 10:30:51.51'}\n",
      "{'누적 확진률': '3.318000336', '누적 의심신고 검사자': '261335', '등록일시분초': '72', '확진자 수': '8086', '게시글번호(감염현황 고유값)': '55', '기준일': '20200314', '기준시간': '00:00', '수정일시분초': '2021-10-07 10:30:51.51'}\n",
      "{'누적 확진률': '3.458499309', '누적 의심신고 검사자': '248647', '등록일시분초': '67', '확진자 수': '7979', '게시글번호(감염현황 고유값)': '54', '기준일': '20200313', '기준시간': '00:00', '수정일시분초': '2021-10-07 10:30:51.51'}\n",
      "{'누적 확진률': '3.621744273', '누적 의심신고 검사자': '234998', '등록일시분초': '66', '확진자 수': '7869', '게시글번호(감염현황 고유값)': '53', '기준일': '20200312', '기준시간': '00:00', '수정일시분초': '2021-10-07 10:30:51.51'}\n",
      "{'누적 확진률': '3.804174536', '누적 의심신고 검사자': '222395', '등록일시분초': '60', '확진자 수': '7755', '게시글번호(감염현황 고유값)': '52', '기준일': '20200311', '기준시간': '00:00', '수정일시분초': '2021-10-07 10:30:51.51'}\n",
      "{'누적 확진률': '3.919308057', '누적 의심신고 검사자': '210144', '등록일시분초': '54', '확진자 수': '7513', '게시글번호(감염현황 고유값)': '51', '기준일': '20200310', '기준시간': '00:00', '수정일시분초': '2021-10-07 10:30:51.51'}\n"
     ]
    }
   ],
   "source": [
    "import requests\n",
    "from xml.etree import ElementTree\n",
    "\n",
    "url = 'http://openapi.data.go.kr/openapi/service/rest/Covid19/getCovid19InfStateJson'\n",
    "params ={'serviceKey' : 'KEY', 'pageNo' : '1', 'numOfRows' : '10', 'startCreateDt' : '20200310', 'endCreateDt' : '20200315' }\n",
    "\n",
    "response = requests.get(url, params=params)\n",
    "\n",
    "root_element = ElementTree.fromstring(response.content) # 문자열에서 XML을 파싱합니다\n",
    "Covid19 = [] # 코로나 감염 현황을 저장할 list 초기화한다\n",
    "iter_element = root_element.iter(tag=\"item\") # Covid19태그 item를 가져옵니다\n",
    "for element in iter_element: # item태그를 순회합니다\n",
    "    Covid19_ = {} # 각 감염현황을 저장할 dict 초기화한다\n",
    "    Covid19_['누적 확진률'] = element.find(\"accDefRate\").text # 누적 확진률 태그 값을 저장합니다\n",
    "    Covid19_['누적 의심신고 검사자'] = element.find(\"accExamCnt\").text # 누적 의심신고 검사자 태그 값을 저장합니다\n",
    "    Covid19_['등록일시분초'] = element.find(\"createDt\").text\n",
    "    Covid19_['등록일시분초'] = element.find(\"deathCnt\").text\n",
    "    Covid19_['확진자 수'] = element.find(\"decideCnt\").text\n",
    "    Covid19_['게시글번호(감염현황 고유값)'] = element.find(\"seq\").text\n",
    "    Covid19_['기준일'] = element.find(\"stateDt\").text\n",
    "    Covid19_['기준시간'] = element.find(\"stateTime\").text\n",
    "    Covid19_['수정일시분초'] = element.find(\"updateDt\").text\n",
    "    \n",
    "    Covid19.append(Covid19_) # Covid19리스트에 Covid19정보를 저장합니다\n",
    "    \n",
    "for row in Covid19:\n",
    "    print(row)"
   ]
  },
  {
   "cell_type": "code",
   "execution_count": null,
   "metadata": {},
   "outputs": [],
   "source": []
  }
 ],
 "metadata": {
  "kernelspec": {
   "display_name": "Python 3",
   "language": "python",
   "name": "python3"
  },
  "language_info": {
   "codemirror_mode": {
    "name": "ipython",
    "version": 3
   },
   "file_extension": ".py",
   "mimetype": "text/x-python",
   "name": "python",
   "nbconvert_exporter": "python",
   "pygments_lexer": "ipython3",
   "version": "3.7.6"
  }
 },
 "nbformat": 4,
 "nbformat_minor": 4
}
